{
  "nbformat": 4,
  "nbformat_minor": 0,
  "metadata": {
    "colab": {
      "name": "MITXPRO_CASE3_1.ipynb",
      "provenance": [],
      "collapsed_sections": [],
      "authorship_tag": "ABX9TyPn0+bR7YVdUQN2iV5GSbAG",
      "include_colab_link": true
    },
    "kernelspec": {
      "name": "python3",
      "display_name": "Python 3"
    }
  },
  "cells": [
    {
      "cell_type": "markdown",
      "metadata": {
        "id": "view-in-github",
        "colab_type": "text"
      },
      "source": [
        "<a href=\"https://colab.research.google.com/github/GMISSAGLIA/GM_PyLab/blob/Main/MITXPRO_CASE3_1.ipynb\" target=\"_parent\"><img src=\"https://colab.research.google.com/assets/colab-badge.svg\" alt=\"Open In Colab\"/></a>"
      ]
    },
    {
      "cell_type": "markdown",
      "metadata": {
        "id": "kQjGTYF8MUp1"
      },
      "source": [
        "MIT xPRO: DSx\r\n",
        "Data Science and Big Data Analytics: Making Data-Driven Decisions\r\n",
        "Case study 3.1"
      ]
    },
    {
      "cell_type": "code",
      "metadata": {
        "id": "XBOoBVndMSNi"
      },
      "source": [
        "import pandas as pd \r\n",
        "import numpy as np\r\n",
        "import matplotlib as plt"
      ],
      "execution_count": null,
      "outputs": []
    },
    {
      "cell_type": "code",
      "metadata": {
        "id": "_IIcBXzRNXKy"
      },
      "source": [
        "from google.colab import files\r\n",
        "uploaded = files.upload()"
      ],
      "execution_count": null,
      "outputs": []
    },
    {
      "cell_type": "code",
      "metadata": {
        "id": "5l0XUxO2QqcR"
      },
      "source": [
        "data = pd.read_excel(r'challenger-data.xlsx')"
      ],
      "execution_count": null,
      "outputs": []
    },
    {
      "cell_type": "code",
      "metadata": {
        "colab": {
          "base_uri": "https://localhost:8080/"
        },
        "id": "WRYQnzojRln1",
        "outputId": "6ab5a3ab-ff56-4690-fbea-a99119a4c78f"
      },
      "source": [
        "data.shape"
      ],
      "execution_count": null,
      "outputs": [
        {
          "output_type": "execute_result",
          "data": {
            "text/plain": [
              "(120, 3)"
            ]
          },
          "metadata": {
            "tags": []
          },
          "execution_count": 39
        }
      ]
    },
    {
      "cell_type": "code",
      "metadata": {
        "colab": {
          "base_uri": "https://localhost:8080/"
        },
        "id": "yGxlcQX5RqaH",
        "outputId": "8a215284-8526-49ab-bf28-174b66646d0c"
      },
      "source": [
        "data.size"
      ],
      "execution_count": null,
      "outputs": [
        {
          "output_type": "execute_result",
          "data": {
            "text/plain": [
              "360"
            ]
          },
          "metadata": {
            "tags": []
          },
          "execution_count": 40
        }
      ]
    },
    {
      "cell_type": "code",
      "metadata": {
        "colab": {
          "base_uri": "https://localhost:8080/"
        },
        "id": "X1xjeLOXRuLh",
        "outputId": "87aeadad-5aca-41fe-9cd4-56cb0af739e8"
      },
      "source": [
        "data.ndim"
      ],
      "execution_count": null,
      "outputs": [
        {
          "output_type": "execute_result",
          "data": {
            "text/plain": [
              "2"
            ]
          },
          "metadata": {
            "tags": []
          },
          "execution_count": 41
        }
      ]
    },
    {
      "cell_type": "code",
      "metadata": {
        "colab": {
          "base_uri": "https://localhost:8080/"
        },
        "id": "H5JOYrvXR17G",
        "outputId": "6f83b008-d41e-4ccd-b619-ad680312eb7e"
      },
      "source": [
        "data.axes"
      ],
      "execution_count": null,
      "outputs": [
        {
          "output_type": "execute_result",
          "data": {
            "text/plain": [
              "[RangeIndex(start=0, stop=120, step=1),\n",
              " Index(['Observation', 'Y', 'X'], dtype='object')]"
            ]
          },
          "metadata": {
            "tags": []
          },
          "execution_count": 43
        }
      ]
    },
    {
      "cell_type": "code",
      "metadata": {
        "id": "DA7piO9xUC11"
      },
      "source": [
        "FailureFilter = data.Y == 1\r\n",
        "NoFailureFilter = data.Y == 0\r\n"
      ],
      "execution_count": null,
      "outputs": []
    },
    {
      "cell_type": "code",
      "metadata": {
        "id": "iP0BUB3PTdnq"
      },
      "source": [
        "\r\n",
        "failures = data.loc[FailureFilter]\r\n",
        "no_failures = data.loc[NoFailureFilter]"
      ],
      "execution_count": null,
      "outputs": []
    },
    {
      "cell_type": "code",
      "metadata": {
        "id": "NVtSxppnWUoE"
      },
      "source": [
        "failures_freq = failures.X.value_counts()#failures.groupby('X')\r\n",
        "no_failures_freq = no_failures.X.value_counts()"
      ],
      "execution_count": null,
      "outputs": []
    },
    {
      "cell_type": "code",
      "metadata": {
        "colab": {
          "base_uri": "https://localhost:8080/"
        },
        "id": "DynSiePQZXI3",
        "outputId": "a8296b05-d804-4d9b-8a47-49c72e0a7ec0"
      },
      "source": [
        "failures_freq"
      ],
      "execution_count": null,
      "outputs": [
        {
          "output_type": "execute_result",
          "data": {
            "text/plain": [
              "53    3\n",
              "75    2\n",
              "70    2\n",
              "63    1\n",
              "58    1\n",
              "57    1\n",
              "Name: X, dtype: int64"
            ]
          },
          "metadata": {
            "tags": []
          },
          "execution_count": 47
        }
      ]
    },
    {
      "cell_type": "code",
      "metadata": {
        "colab": {
          "base_uri": "https://localhost:8080/"
        },
        "id": "S3Zj9Z0XZd-f",
        "outputId": "080a37e3-54e2-4390-ec79-15104b8eee16"
      },
      "source": [
        "no_failures_freq"
      ],
      "execution_count": null,
      "outputs": [
        {
          "output_type": "execute_result",
          "data": {
            "text/plain": [
              "70    18\n",
              "67    15\n",
              "76    10\n",
              "75     8\n",
              "80     5\n",
              "66     5\n",
              "68     5\n",
              "69     5\n",
              "81     5\n",
              "72     5\n",
              "73     5\n",
              "78     5\n",
              "79     5\n",
              "63     4\n",
              "58     4\n",
              "57     4\n",
              "53     2\n",
              "Name: X, dtype: int64"
            ]
          },
          "metadata": {
            "tags": []
          },
          "execution_count": 48
        }
      ]
    },
    {
      "cell_type": "code",
      "metadata": {
        "colab": {
          "base_uri": "https://localhost:8080/"
        },
        "id": "XD5T0H8XZ9Zw",
        "outputId": "8347d596-60cf-4ab3-8abe-818bc28d1ab6"
      },
      "source": [
        "type(no_failures_freq)\r\n"
      ],
      "execution_count": null,
      "outputs": [
        {
          "output_type": "execute_result",
          "data": {
            "text/plain": [
              "pandas.core.series.Series"
            ]
          },
          "metadata": {
            "tags": []
          },
          "execution_count": 49
        }
      ]
    },
    {
      "cell_type": "code",
      "metadata": {
        "colab": {
          "base_uri": "https://localhost:8080/",
          "height": 279
        },
        "id": "c3b1EEKJWCDW",
        "outputId": "2c88f5c3-5e5a-44a9-9f37-7c33662cc068"
      },
      "source": [
        "import matplotlib as mpl\r\n",
        "from matplotlib import pyplot as plt\r\n",
        "plt.scatter(failures_freq.index, failures_freq, c='red', s=50)\r\n",
        "plt.scatter(no_failures_freq.index, np.zeros(len(no_failures_freq)), c='blue', s=50)\r\n",
        "plt.xlabel('X: Temperature')\r\n",
        "plt.ylabel('Number of Failures')\r\n",
        "plt.show()"
      ],
      "execution_count": null,
      "outputs": [
        {
          "output_type": "display_data",
          "data": {
            "image/png": "[encoded data removed]",
            "text/plain": [
              "<Figure size 432x288 with 1 Axes>"
            ]
          },
          "metadata": {
            "tags": [],
            "needs_background": "light"
          }
        }
      ]
    },
    {
      "cell_type": "code",
      "metadata": {
        "colab": {
          "base_uri": "https://localhost:8080/",
          "height": 415
        },
        "id": "-HZaQjVqZ-Ur",
        "outputId": "52fff175-8c92-4d94-de78-f12d399adaed"
      },
      "source": [
        "from patsy import dmatrices\r\n",
        "import statsmodels.discrete.discrete_model as sm\r\n",
        "#get the data in correct format\r\n",
        "y, X = dmatrices('Y ~ X', data, return_type = 'dataframe')\r\n",
        "X"
      ],
      "execution_count": null,
      "outputs": [
        {
          "output_type": "execute_result",
          "data": {
            "text/html": [
              "<div>\n",
              "<style scoped>\n",
              "    .dataframe tbody tr th:only-of-type {\n",
              "        vertical-align: middle;\n",
              "    }\n",
              "\n",
              "    .dataframe tbody tr th {\n",
              "        vertical-align: top;\n",
              "    }\n",
              "\n",
              "    .dataframe thead th {\n",
              "        text-align: right;\n",
              "    }\n",
              "</style>\n",
              "<table border=\"1\" class=\"dataframe\">\n",
              "  <thead>\n",
              "    <tr style=\"text-align: right;\">\n",
              "      <th></th>\n",
              "      <th>Intercept</th>\n",
              "      <th>X</th>\n",
              "    </tr>\n",
              "  </thead>\n",
              "  <tbody>\n",
              "    <tr>\n",
              "      <th>0</th>\n",
              "      <td>1.0</td>\n",
              "      <td>53.0</td>\n",
              "    </tr>\n",
              "    <tr>\n",
              "      <th>1</th>\n",
              "      <td>1.0</td>\n",
              "      <td>53.0</td>\n",
              "    </tr>\n",
              "    <tr>\n",
              "      <th>2</th>\n",
              "      <td>1.0</td>\n",
              "      <td>53.0</td>\n",
              "    </tr>\n",
              "    <tr>\n",
              "      <th>3</th>\n",
              "      <td>1.0</td>\n",
              "      <td>53.0</td>\n",
              "    </tr>\n",
              "    <tr>\n",
              "      <th>4</th>\n",
              "      <td>1.0</td>\n",
              "      <td>53.0</td>\n",
              "    </tr>\n",
              "    <tr>\n",
              "      <th>...</th>\n",
              "      <td>...</td>\n",
              "      <td>...</td>\n",
              "    </tr>\n",
              "    <tr>\n",
              "      <th>115</th>\n",
              "      <td>1.0</td>\n",
              "      <td>81.0</td>\n",
              "    </tr>\n",
              "    <tr>\n",
              "      <th>116</th>\n",
              "      <td>1.0</td>\n",
              "      <td>81.0</td>\n",
              "    </tr>\n",
              "    <tr>\n",
              "      <th>117</th>\n",
              "      <td>1.0</td>\n",
              "      <td>81.0</td>\n",
              "    </tr>\n",
              "    <tr>\n",
              "      <th>118</th>\n",
              "      <td>1.0</td>\n",
              "      <td>81.0</td>\n",
              "    </tr>\n",
              "    <tr>\n",
              "      <th>119</th>\n",
              "      <td>1.0</td>\n",
              "      <td>81.0</td>\n",
              "    </tr>\n",
              "  </tbody>\n",
              "</table>\n",
              "<p>120 rows × 2 columns</p>\n",
              "</div>"
            ],
            "text/plain": [
              "     Intercept     X\n",
              "0          1.0  53.0\n",
              "1          1.0  53.0\n",
              "2          1.0  53.0\n",
              "3          1.0  53.0\n",
              "4          1.0  53.0\n",
              "..         ...   ...\n",
              "115        1.0  81.0\n",
              "116        1.0  81.0\n",
              "117        1.0  81.0\n",
              "118        1.0  81.0\n",
              "119        1.0  81.0\n",
              "\n",
              "[120 rows x 2 columns]"
            ]
          },
          "metadata": {
            "tags": []
          },
          "execution_count": 73
        }
      ]
    },
    {
      "cell_type": "code",
      "metadata": {
        "colab": {
          "base_uri": "https://localhost:8080/"
        },
        "id": "WWpsLCHQzEMH",
        "outputId": "06b51461-2363-4b85-90bf-a0d8fbd386c6"
      },
      "source": [
        "#build the model\r\n",
        "logit = sm.Logit(y, X)\r\n",
        "result = logit.fit()\r\n",
        "# summarize the model\r\n",
        "print (result.summary())"
      ],
      "execution_count": null,
      "outputs": [
        {
          "output_type": "stream",
          "text": [
            "Optimization terminated successfully.\n",
            "         Current function value: 0.242411\n",
            "         Iterations 7\n",
            "                           Logit Regression Results                           \n",
            "==============================================================================\n",
            "Dep. Variable:                      Y   No. Observations:                  120\n",
            "Model:                          Logit   Df Residuals:                      118\n",
            "Method:                           MLE   Df Model:                            1\n",
            "Date:                Tue, 09 Feb 2021   Pseudo R-squ.:                  0.1549\n",
            "Time:                        22:12:03   Log-Likelihood:                -29.089\n",
            "converged:                       True   LL-Null:                       -34.420\n",
            "Covariance Type:            nonrobust   LLR p-value:                  0.001094\n",
            "==============================================================================\n",
            "                 coef    std err          z      P>|z|      [0.025      0.975]\n",
            "------------------------------------------------------------------------------\n",
            "Intercept      7.4049      3.041      2.435      0.015       1.445      13.365\n",
            "X             -0.1466      0.047     -3.104      0.002      -0.239      -0.054\n",
            "==============================================================================\n"
          ],
          "name": "stdout"
        }
      ]
    }
  ]
}