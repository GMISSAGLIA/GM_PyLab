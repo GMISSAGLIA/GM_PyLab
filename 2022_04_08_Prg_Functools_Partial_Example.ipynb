{
  "nbformat": 4,
  "nbformat_minor": 0,
  "metadata": {
    "colab": {
      "name": "2022_04_08_Prg_Functools_Partial_Example",
      "provenance": [],
      "authorship_tag": "ABX9TyPShyu6VVYemCWPrvfKOsCE",
      "include_colab_link": true
    },
    "kernelspec": {
      "name": "python3",
      "display_name": "Python 3"
    },
    "language_info": {
      "name": "python"
    }
  },
  "cells": [
    {
      "cell_type": "markdown",
      "metadata": {
        "id": "view-in-github",
        "colab_type": "text"
      },
      "source": [
        "<a href=\"https://colab.research.google.com/github/GMISSAGLIA/GM_PyLab/blob/Branch_01/2022_04_08_Prg_Functools_Partial_Example.ipynb\" target=\"_parent\"><img src=\"https://colab.research.google.com/assets/colab-badge.svg\" alt=\"Open In Colab\"/></a>"
      ]
    },
    {
      "cell_type": "code",
      "execution_count": 10,
      "metadata": {
        "colab": {
          "base_uri": "https://localhost:8080/"
        },
        "id": "cBZRAV0-4VjH",
        "outputId": "9021c2a9-6f4b-4a89-8e7d-ac04b52d9001"
      },
      "outputs": [
        {
          "output_type": "stream",
          "name": "stdout",
          "text": [
            "Partial with one Arg:  20\n",
            "PartialMultiply with two args:  100\n"
          ]
        }
      ],
      "source": [
        "from functools import partial\n",
        "\n",
        "def multiply(x, y):\n",
        "  return x*y\n",
        "\n",
        "multiply(3,4)\n",
        "\n",
        "PartialMultiply = partial(multiply,10)\n",
        "\n",
        "print(\"Partial with one Arg: \", PartialMultiply(2) )\n",
        "PartialMultiply = partial(multiply,10,10)\n",
        "\n",
        "print(\"PartialMultiply with two args: \", PartialMultiply())"
      ]
    }
  ]
}