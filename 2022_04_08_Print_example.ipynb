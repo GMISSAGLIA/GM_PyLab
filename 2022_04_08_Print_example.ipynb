{
  "nbformat": 4,
  "nbformat_minor": 0,
  "metadata": {
    "colab": {
      "name": "2022_04_08_Print_example.ipynb",
      "provenance": [],
      "authorship_tag": "ABX9TyP+CSBSN/LNflmWdNpE/vH+",
      "include_colab_link": true
    },
    "kernelspec": {
      "name": "python3",
      "display_name": "Python 3"
    },
    "language_info": {
      "name": "python"
    }
  },
  "cells": [
    {
      "cell_type": "markdown",
      "metadata": {
        "id": "view-in-github",
        "colab_type": "text"
      },
      "source": [
        "<a href=\"https://colab.research.google.com/github/GMISSAGLIA/GM_PyLab/blob/Branch_01/2022_04_08_Print_example.ipynb\" target=\"_parent\"><img src=\"https://colab.research.google.com/assets/colab-badge.svg\" alt=\"Open In Colab\"/></a>"
      ]
    },
    {
      "cell_type": "code",
      "execution_count": null,
      "metadata": {
        "colab": {
          "base_uri": "https://localhost:8080/"
        },
        "id": "Nde2sRc1mJls",
        "outputId": "28a9c61a-ca25-470e-b599-38ecb69d2dc0"
      },
      "outputs": [
        {
          "output_type": "stream",
          "name": "stdout",
          "text": [
            "1 (1, 2, 3, 4)\n",
            "1 2 3 4\n",
            "ddddd cccc\n",
            "1 ccc 10 - pino\n",
            "2 Total score for pino is 10\n",
            "3 Total score for pino is 10\n"
          ]
        }
      ],
      "source": [
        "name = \"pino\"\n",
        "score = 10\n",
        "\n",
        "print(\"1\" ,(1,2,3,4))\n",
        "print(1,2,3,4)\n",
        "print (\"ddddd\", \"cccc\")\n",
        "print(\"1 ccc %s - %s\" % (score, name))\n",
        "print(\"2 Total score for %(n)s is %(s)s\" % {'n': name, 's': score})\n",
        "print(\"3 Total score for %s is %s\" % (name, score))"
      ]
    }
  ]
}